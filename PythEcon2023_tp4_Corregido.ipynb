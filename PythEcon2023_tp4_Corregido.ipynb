{
 "cells": [
  {
   "cell_type": "markdown",
   "id": "1b31968d",
   "metadata": {},
   "source": [
    "## Curso Python para Economistas\n",
    "### Trabajo Práctico Nº 4"
   ]
  },
  {
   "cell_type": "markdown",
   "id": "64080201",
   "metadata": {},
   "source": [
    "### Fecha de entrega:\n",
    "Sábado 21/10 a las 18:00 hs"
   ]
  },
  {
   "cell_type": "markdown",
   "id": "9ec43331",
   "metadata": {},
   "source": [
    "### Modalidad de entrega y trabajo\n",
    "- Este TP es **grupal**. _Al definir los integrantes del grupo, tengan en cuenta los días de gracia disponibles que tiene cada uno_.\n",
    "- Un miembro del grupo debe crear un repositorio **privado** en GitHub, y dar acceso a sus compañeros y a los 5 profesores.\n",
    "- **Todos los miembros del grupo deben haber hecho al menos un commit con contribuciones sustanciales**. Tengan esto en cuenta especialmente si, por ejemplo, van a estar trabajando en una misma computadora.\n",
    "- Corroborar que el nombre de usuario que tienen configurado para `git` es el mismo nombre de usuario de GitHub. Para hacer esto, se puede correr `git config --list` en `cmd` oterminal.\n",
    "- Cuando hayan hecho ese último commit, copien la URL para clonar su repositorio y péguenla en\n",
    "[este Google Sheet](https://docs.google.com/spreadsheets/d/1JmrvClRxxb3luzbDrzAMUC2cfQXyGIV0cev0JTi_Ff4/edit?usp=sharing), en la hoja del TP4. Agreguen los nombres de los integrantes del grupo. Al ser un repositorio privado, sólo los colaboradores habilitados podrán clonarlo.\n",
    "- Al finalizar el trabajo práctico deben hacer un último commit y push en su repositorio de GitHub con el mensaje `\"Entrega final del TP4\"`. Antes de la fecha y hora de entrega pueden hacer cuantos cambios quieran en el repositorio, pero luego de la hora de corte no deben hacer más cambios. Si un commit con el mensaje anterior se realiza luego de la hora de entrega, se supondrá que la entrega tardía fue intencional y se utilizarán los días de gracia. La última versión en el repositorio es la que será evaluada. Para esto es importante que no completen el Google Sheet hasta que no hayan finalizado el TP, como tampoco hacer pushes posteriores a la entrega."
   ]
  },
  {
   "cell_type": "code",
   "execution_count": null,
   "id": "8563ad2e",
   "metadata": {},
   "outputs": [],
   "source": [
    "# Corrige: Agostina Zulli (agostinazulli@gmail.com)\n",
    "#   Los comentarios están al final de cada ejercicio y/o bajo el prefijo ## CC:. Tip: pueden buscar con ctrl+F ## CC \n",
    "#   para buscar todos los comentarios.\n",
    "\n",
    "#### NOTA TP: ---------------------------------------------------------------------------------------------------\n",
    "\n",
    "# Parámetros\n",
    "cant_ejercicios = 9\n",
    "ponderacion = [0.1, 0.05, 0.05, 0.05, 0.05, 0.15, 0.15, 0.2, 0.2]\n",
    "puntos = [10,10,10,10,9,10,9,9,7]\n",
    "\n",
    "# Verifica que todo esté ok\n",
    "assert cant_ejercicios == len(ponderacion), \"La cantidad de ejercicios no es la misma que los ponderadores! Verificar...\"\n",
    "assert cant_ejercicios == len(puntos), \"Falta la nota de algún ejercicio! Verificar...\"\n",
    "assert sum(ponderacion) == 1, \"Los ponderadores no suman! Verificar...\" \n",
    "\n",
    "# Imprime la nota\n",
    "\n",
    "ptos_tot=0\n",
    "for i in range(cant_ejercicios):\n",
    "    print(f\"Nota del ejercicio {i+1}: {puntos[i]}/10, que respresentan un {int(ponderacion[i]*100)}% de la nota total\")\n",
    "    ptos_tot += puntos[i]*ponderacion[i]\n",
    "\n",
    "print(f\"##########################################\")\n",
    "print(f\"#####   La nota de este TP es {round(ptos_tot,3)}   #####\")\n",
    "print(f\"##########################################\")"
   ]
  },
  {
   "cell_type": "markdown",
   "id": "7f27415f",
   "metadata": {},
   "source": [
    "### Ejercicios"
   ]
  },
  {
   "cell_type": "markdown",
   "id": "1f225d2a",
   "metadata": {},
   "source": [
    "En el siguiente trabajo vamos a trabajar con datos de domicilios (muy) malformados, que se encuentran en el archivo `Clase4/archivos/domicilios.csv` de este repositorio. \n"
   ]
  },
  {
   "cell_type": "markdown",
   "id": "5c0078e3",
   "metadata": {},
   "source": [
    "Primero, leamos el contenido del archivo:"
   ]
  },
  {
   "cell_type": "code",
   "execution_count": null,
   "id": "90ce461d",
   "metadata": {},
   "outputs": [],
   "source": [
    "# Para correr este código como está debemos ubicarnos en\n",
    "# el directorio Clase4 del repositorio, por ejemplo haciendo\n",
    "# import os\n",
    "# os.chdir(\"Clase4\")\n",
    "\n",
    "with open(\"domicilios.csv\", encoding=\"latin1\") as domicilios_f:\n",
    "    domicilios = domicilios_f.readlines()\n",
    "    header = domicilios.pop(0) # quitamos el encabezado (primera línea) del archivo"
   ]
  },
  {
   "cell_type": "code",
   "execution_count": null,
   "id": "907ceb8d",
   "metadata": {
    "tags": []
   },
   "outputs": [],
   "source": [
    "# Examinemos el contenido\n",
    "domicilios"
   ]
  },
  {
   "cell_type": "markdown",
   "id": "f094fa81",
   "metadata": {
    "tags": []
   },
   "source": [
    "La mayoría de las líneas contienen el ID del domicilio, el nombre de un barrio, el número de manzana y el número de casa. Vamos a enfocarnos sólo en las que tienen estos campos. \n",
    "\n",
    "Notar que los nombres de los barrios suelen estar precedidos por `B`, `Bº` o similar; los códigos de manzana (que pueden ser letras, números o combinaciones) por `M`, `MZ`, `MZA` o similar (seguido de espacios, `.`, `:`, etc.); y los números de casa por `C`, `CS`, `CSA`, `CASA` o similar; pero hay una gran variedad.\n",
    "\n",
    "\n",
    "Además, la manzana y la casa no aparecen siempre en ese orden."
   ]
  },
  {
   "cell_type": "markdown",
   "id": "062811c7",
   "metadata": {},
   "source": [
    "El objetivo de este trabajo es utilizar expresiones regulares para _parsear_ estos strings y darles un formato estructurado. _Notar que no vamos a intentar parsear todos los domicilios. Esta sería una tarea imposible, porque están realmente muy malformados._ La idea es utilizar lo que aprendimos para parsear un buen número de ellos, con la ayuda de widgets."
   ]
  },
  {
   "cell_type": "markdown",
   "id": "418560d5",
   "metadata": {},
   "source": [
    "### Consignas"
   ]
  },
  {
   "cell_type": "markdown",
   "id": "f1651efe",
   "metadata": {},
   "source": [
    "1. Utilizar el método [`strip`](https://docs.python.org/3/library/stdtypes.html#str.strip) de `string`'s para quitar el salto de línea final (`\"\\n\"`) de cada elemento de la lista. [Este link](https://j2logo.com/eliminar-espacios-en-blanco-string-strip-python/) puede ser de ayuda."
   ]
  },
  {
   "cell_type": "code",
   "execution_count": null,
   "id": "5339593e",
   "metadata": {
    "scrolled": false
   },
   "outputs": [],
   "source": [
    "# Eliminar el salto de línea al final de cada elemento en la lista\n",
    "domicilios = [linea.strip() for linea in domicilios]\n",
    "\n",
    "# Verificar el resultado\n",
    "for linea in domicilios:\n",
    "    print(linea)"
   ]
  },
  {
   "cell_type": "code",
   "execution_count": null,
   "id": "55e57371",
   "metadata": {},
   "outputs": [],
   "source": [
    "## CC. Excelente. 10/10"
   ]
  },
  {
   "cell_type": "markdown",
   "id": "e1959c8e",
   "metadata": {},
   "source": [
    "2. Separar el número que representa el ID del domicilio, del `string` que representa al domicilio en sí. El resultado debe ser una lista anidada, donde cada elemento de la lista maestra esté compuesto por estos dos componentes. Utilizar expresiones regulares y el método `group` para hacerlo."
   ]
  },
  {
   "cell_type": "code",
   "execution_count": null,
   "id": "16eb2891",
   "metadata": {},
   "outputs": [],
   "source": [
    "import re\n",
    "\n",
    "# Definir una expresión regular para capturar el ID del domicilio y el domicilio en sí\n",
    "# Suponemos que el ID es un número al inicio de la cadena\n",
    "domicilio_regex = re.compile(r'^(\\d+)\\s*(.*)')\n",
    "\n",
    "# Crear una lista para almacenar los resultados\n",
    "domicilios_separados = []\n",
    "\n",
    "# Iterar sobre las líneas de domicilios\n",
    "for linea in domicilios:\n",
    "    # Buscar coincidencias con la expresión regular\n",
    "    match = domicilio_regex.match(linea)\n",
    "    \n",
    "    # Si encontramos una coincidencia, agregarla a la lista de resultados\n",
    "    if match:\n",
    "        id_domicilio, direccion = match.groups()\n",
    "        domicilios_separados.append([id_domicilio, direccion])\n",
    "    else:\n",
    "        # Si no encontramos una coincidencia, agregar la línea original para no perder información\n",
    "        domicilios_separados.append([None, linea])\n",
    "\n",
    "# Verificar el resultado\n",
    "for domicilio in domicilios_separados:\n",
    "    print(domicilio)"
   ]
  },
  {
   "cell_type": "code",
   "execution_count": null,
   "id": "58cf401d",
   "metadata": {},
   "outputs": [],
   "source": [
    "## CC \n",
    "# Muy bien. 10/10 "
   ]
  },
  {
   "cell_type": "markdown",
   "id": "0b23e329",
   "metadata": {},
   "source": [
    "3. Crear un DataFrame, llamado `domicilios_df`, con las columnas `ID` y `string_crudo`. El contenido debe ser la lista anidada creada arriba. Recordar que se puede crear un DataFrame pasando al constructor `pd.DataFrame` directamente la lista anidada."
   ]
  },
  {
   "cell_type": "code",
   "execution_count": null,
   "id": "486908f5",
   "metadata": {
    "scrolled": true
   },
   "outputs": [],
   "source": [
    "import pandas as pd\n",
    "\n",
    "# Crear un DataFrame a partir de la lista anidada\n",
    "domicilios_df = pd.DataFrame(domicilios_separados, columns=['ID', 'string_crudo'])\n",
    "\n",
    "# Mostrar las primeras filas del DataFrame para verificar que se ha creado correctamente\n",
    "print(domicilios_df.head())"
   ]
  },
  {
   "cell_type": "code",
   "execution_count": null,
   "id": "23085905",
   "metadata": {},
   "outputs": [],
   "source": [
    "## CC \n",
    "# 10/10"
   ]
  },
  {
   "cell_type": "markdown",
   "id": "6d743604",
   "metadata": {},
   "source": [
    "4. Agregar al `DataFrame` las columnas `barrio`, `manzana`, `casa`, `lote` (todas de tipo `string`), pero inicialmente vacías (es decir, con `None`). En los siguientes incisos vamos a poblar estos campos usando expresiones regulares para parsear la columna `string_crudo`."
   ]
  },
  {
   "cell_type": "code",
   "execution_count": null,
   "id": "6a46f9c2",
   "metadata": {
    "scrolled": false
   },
   "outputs": [],
   "source": [
    "# Agregar nuevas columnas con valores None\n",
    "domicilios_df['barrio'] = None\n",
    "domicilios_df['manzana'] = None\n",
    "domicilios_df['casa'] = None\n",
    "domicilios_df['lote'] = None\n",
    "\n",
    "# Mostrar las primeras filas del DataFrame para verificar que las columnas se han agregado correctamente\n",
    "print(domicilios_df.head())\n"
   ]
  },
  {
   "cell_type": "code",
   "execution_count": null,
   "id": "27f8b517",
   "metadata": {},
   "outputs": [],
   "source": [
    "## CC\n",
    "# Muy bien. 10/10"
   ]
  },
  {
   "cell_type": "markdown",
   "id": "03734a81",
   "metadata": {},
   "source": [
    "5. Empecemos primero analizando un `string_crudo` particular: `\"B° SAN LUIS XV(15);C: 03;;M: G;\"`\n",
    "\n",
    "Escribir una expresión regular que contenga grupos (sub-expresiones regulares escritas entre paréntesis) y permita extraer los campos `barrio`, `manzana`, `casa` y `lote` del `string_crudo` anterior. Usarla para extraer estos campos en un diccionario. El resultado debería ser `{\"barrio\": \"SAN LUIS XV(15)\", \"manzana\": \"G\", \"casa\": \"03\"}`."
   ]
  },
  {
   "cell_type": "code",
   "execution_count": null,
   "id": "f08c023b",
   "metadata": {
    "scrolled": true
   },
   "outputs": [],
   "source": [
    "import re\n",
    "\n",
    "string_crudo = \"B° SAN LUIS XV(15);C: 03;;M: G;\"\n",
    "\n",
    "# Definir la expresión regular con grupos para extraer barrio, manzana, casa y lote\n",
    "pattern = re.compile(\n",
    "    r'B[°º]?\\s*([^;]*)(?:;C:\\s*(\\d+))?(?:;M:\\s*([^;]*))?(?:;L:\\s*([^;]*))?',\n",
    "    re.IGNORECASE\n",
    ")\n",
    "\n",
    "# Buscar coincidencias en el string_crudo\n",
    "match = pattern.match(string_crudo)\n",
    "if match:\n",
    "    # Extraer los grupos y crear el diccionario\n",
    "    barrio, casa, manzana, lote = match.groups()\n",
    "    resultado = {\"barrio\": barrio, \"manzana\": manzana, \"casa\": casa, \"lote\": lote}\n",
    "    print(resultado)\n",
    "else:\n",
    "    print(\"No se encontraron coincidencias\")"
   ]
  },
  {
   "cell_type": "code",
   "execution_count": null,
   "id": "4cc1a377",
   "metadata": {},
   "outputs": [],
   "source": [
    "## CC 9/10\n",
    "\n",
    "# Estuvieron muy cerca. Solamente les faltó recuperar la manzana. \n",
    "# Les dejo una propuesta de expresion regular:\n",
    "# r'^(B[°]) (.*);([CASA]): (.*);;(M:) (.*);'\n",
    "\n",
    "# Otro consejo, al usar la funcion groups() lo que estan haciendo es, a un string, dividirlo en las expresiones que ustedes definieron \n",
    "# entonces, indicando el numero de grupo, pueden reordenar a su gusto las expresiones regulares que extraigan y así \n",
    "# completar cada key con el elemento correspondiente. Les dejo un ejemplo:"
   ]
  },
  {
   "cell_type": "code",
   "execution_count": null,
   "id": "bfeedc24",
   "metadata": {
    "scrolled": true
   },
   "outputs": [],
   "source": [
    "resultado = {}\n",
    "\n",
    "string_crudo = \"B° SAN LUIS XV(15);C: 03;;M: G;\"\n",
    "\n",
    "# Definimos la expresión regular para obtener el barrio, la manzana y la casa del string creado \n",
    "regex = r\"^(B[°]) (.*);([CASA]): (.*);;(M:) (.*);\"\n",
    "regex = re.compile(regex)\n",
    "\n",
    "# Realizar la coincidencia\n",
    "coincidencia = regex.match(string_crudo)\n",
    "\n",
    "# Verificar si hay coincidencia\n",
    "if coincidencia:\n",
    "    resultado[\"barrio\"] = coincidencia.group(2)\n",
    "    resultado[\"manzana\"] = coincidencia.group(6)\n",
    "    resultado[\"casa\"] = coincidencia.group(4)\n",
    "\n",
    "    print(resultado)\n",
    "else:\n",
    "    print(\"No se encontró coincidencia.\")\n"
   ]
  },
  {
   "cell_type": "markdown",
   "id": "98335002",
   "metadata": {},
   "source": [
    "6. Dependiendo de cómo hayan escrito la expresión regular anterior, puede ser más o menos general. Vamos a determinar cuántos domicilios satisfacen la expresión regular que escribieron en 5).\n",
    "Para eso, crear un widget tipo `Textarea` donde puedan escribir una expresión regular, y una función reactiva a este widget (usando `interact`) en que determine cuántos domicilios satisfacen la expresión regular e imprima este número."
   ]
  },
  {
   "cell_type": "code",
   "execution_count": null,
   "id": "01f2b7be-fead-4c6a-a7dc-16fc453f584e",
   "metadata": {
    "scrolled": false
   },
   "outputs": [],
   "source": [
    "import ipywidgets as widgets\n",
    "from IPython.display import display\n",
    "from ipywidgets import interact\n",
    "import re\n",
    "\n",
    "# Definir la función que se ejecutará cuando cambie el contenido del widget\n",
    "def contar_domicilios(expr_reg):\n",
    "    pattern = re.compile(expr_reg, re.IGNORECASE)\n",
    "    count = 0\n",
    "    for domicilio in domicilios_df['string_crudo']:\n",
    "        if pattern.search(domicilio):\n",
    "            count += 1\n",
    "    print(f\"Número de domicilios que satisfacen la expresión regular: {count}\")\n",
    "\n",
    "# Crear el widget Textarea\n",
    "expr_reg_widget = widgets.Textarea(\n",
    "    value='B[°º]?\\\\s*([^;]*)(?:;C:\\\\s*(\\\\d+))?(?:;M:\\\\s*([^;]*))?(?:;L:\\\\s*([^;]*))?',\n",
    "    placeholder='Escribe aquí tu expresión regular',\n",
    "    description='Expr. Reg.:',\n",
    "    disabled=False,\n",
    "    layout=widgets.Layout(width='100%', height='100px')\n",
    ")\n",
    "\n",
    "# Utilizar interact para crear una función reactiva vinculada al widget\n",
    "interact(contar_domicilios, expr_reg=expr_reg_widget);\n"
   ]
  },
  {
   "cell_type": "code",
   "execution_count": null,
   "id": "23e250a8",
   "metadata": {},
   "outputs": [],
   "source": [
    "## Todo ok. 10/10"
   ]
  },
  {
   "cell_type": "markdown",
   "id": "73c7bf27",
   "metadata": {},
   "source": [
    "7. Crear una nueva función para `interact`, basada en la función del punto 6), pero que reciba un segundo argumento, dado por un segundo widget que tome un valor booleano. Dependiendo de este valor, la función decidirá mostrar las filas de `domicilios_df` para las cuales la columna `string_crudo` satisface a la expresión regular del primer widget, o las que no la cumplen. Deben mirar la documentación de widgets para determinar qué tipo de widget usar en este caso: https://ipywidgets.readthedocs.io/en/latest/examples/Widget%20List.html. Usar para los widgets una descripción adecuada."
   ]
  },
  {
   "cell_type": "code",
   "execution_count": null,
   "id": "263e9c19-5226-4dcb-bd90-0e2dad203f0c",
   "metadata": {
    "scrolled": false
   },
   "outputs": [],
   "source": [
    "# Definir la función para interact\n",
    "def filtrar_y_mostrar_domicilios(expr_reg, mostrar_cumplen):\n",
    "    pattern = re.compile(expr_reg, re.IGNORECASE)\n",
    "    \n",
    "    def cumple_expresion(domicilio):\n",
    "        return bool(pattern.search(domicilio))\n",
    "    \n",
    "    if mostrar_cumplen:\n",
    "        resultado = domicilios_df[domicilios_df['string_crudo'].apply(cumple_expresion)]\n",
    "    else:\n",
    "        resultado = domicilios_df[~domicilios_df['string_crudo'].apply(cumple_expresion)]\n",
    "    \n",
    "    if not resultado.empty:\n",
    "        display(resultado)\n",
    "    else:\n",
    "        print(\"No se encontraron coincidencias\")\n",
    "\n",
    "# Crear los widgets\n",
    "expr_reg_widget = widgets.Textarea(\n",
    "    value='B[°º]?\\\\s*([^;]*)(?:;C:\\\\s*(\\\\d+))?(?:;M:\\\\s*([^;]*))?(?:;L:\\\\s*([^;]*))?',\n",
    "    description='Expr. Reg.:',\n",
    "    layout=widgets.Layout(width='100%', height='100px')\n",
    ")\n",
    "\n",
    "mostrar_cumplen_widget = widgets.Checkbox(\n",
    "    value=True,\n",
    "    description='Mostrar los que cumplen',\n",
    "    disabled=False\n",
    ")\n",
    "\n",
    "# Crear la interacción\n",
    "interact(filtrar_y_mostrar_domicilios, expr_reg=expr_reg_widget, mostrar_cumplen=mostrar_cumplen_widget);\n"
   ]
  },
  {
   "cell_type": "code",
   "execution_count": null,
   "id": "5896c630",
   "metadata": {},
   "outputs": [],
   "source": [
    "## CC Muy bien. 9/10\n",
    "\n",
    "## Recuerden que al definir una funcion es una buena práctica incluir docstrings \n",
    "# para documentar tu código y proporcionar información para una persona externa que este leyendo el código."
   ]
  },
  {
   "cell_type": "markdown",
   "id": "b6df8107-2027-4c60-914c-28e369bd3769",
   "metadata": {},
   "source": [
    "8. Crear una lista de unas 5 expresiones regulares que permitan parsear distintos domicilios del DataFrame. Para hacerlo pueden usar el widget del ejercicio anterior para, iterativamente, ir probando distintas expresiones regulares. Examinando los registros que _no_ matcheen, podrán entonces pensar en la siguiente expresión regular de la lista. Dejar la lista de expresiones regulares como comentario, y mencionar cuántos registros matchean en cada caso."
   ]
  },
  {
   "cell_type": "code",
   "execution_count": null,
   "id": "a206dca4-299c-4e1c-9445-184a2d0e1e4d",
   "metadata": {
    "scrolled": true
   },
   "outputs": [],
   "source": [
    "# Ejemplo de lista de expresiones regulares\n",
    "expresiones_regulares = [\n",
    "    r'B[°º]?[\\s-]*(.*?);?M[ZNA]?[:.\\s-]*(.*?);?C[A-Z]*[:.\\s-]*(\\d+)',  # B° Barrio Mz X Casa Y\n",
    "    r'(?i)(?:manzana|mz)[.\\s-]*(\\d+)[.\\s-]*(?:lote|lt)[.\\s-]*(\\d+)',   # Manzana X Lote Y\n",
    "    r'(?i)(?:barrio|b)[.\\s-]*(.*?);?C[A-Z]*[:.\\s-]*(\\d+)',              # Barrio X Casa Y\n",
    "    r'(?i)(?:calle|c)[.\\s-]*(.*?);?N[°.\\s-]*(\\d+)',                     # Calle X N° Y\n",
    "    r'(?i)(?:lote|lt)[.\\s-]*(\\d+)[.\\s-]*(?:manzana|mz)[.\\s-]*(\\d+)'     # Lote X Manzana Y\n",
    "]\n",
    "\n",
    "# Función para contar cuántos registros matchean con cada expresión regular\n",
    "def contar_matches(expresiones, dataframe):\n",
    "    for i, expr in enumerate(expresiones, start=1):\n",
    "        pattern = re.compile(expr, re.IGNORECASE)\n",
    "        matches = dataframe['string_crudo'].apply(lambda x: bool(pattern.search(x)))\n",
    "        total_matches = matches.sum()\n",
    "        print(f\"Expresión regular {i}: {total_matches} registros matchean.\")\n",
    "\n",
    "# Llamar a la función con la lista de expresiones regulares y el DataFrame\n",
    "contar_matches(expresiones_regulares, domicilios_df)\n"
   ]
  },
  {
   "cell_type": "code",
   "execution_count": null,
   "id": "a01966ad",
   "metadata": {},
   "outputs": [],
   "source": [
    "## CC Muy bien. 9/10\n",
    "# Faltó incluir un docstring que describa la función y cuales son los imputs y output."
   ]
  },
  {
   "cell_type": "markdown",
   "id": "c19f5266",
   "metadata": {},
   "source": [
    "9. Ahora poblemos los campos faltantes del DataFrame `domicilios_df`. Para eso, vamos a crear una función para ser pasada al método `apply` de DataFrame's. Esta función debe ser tal que reciba una lista de expresiones regulares (como la `lista_regex` de arriba), pruebe las mismas una a una, y si alguna matchea con `string_crudo`, pueble los campos restantes del `domicilios_df` con la información extraída. Finalmente, utilizar esta función dentro de `apply` para poblar el DataFrame."
   ]
  },
  {
   "cell_type": "code",
   "execution_count": null,
   "id": "81bc5d4f",
   "metadata": {
    "scrolled": true
   },
   "outputs": [],
   "source": [
    "# Definir la función para aplicar a cada fila del DataFrame\n",
    "def rellenar_campos(row, lista_regex):\n",
    "    for expr in lista_regex:\n",
    "        match = re.match(expr, row['string_crudo'])\n",
    "        if match:\n",
    "            # Suponiendo que los grupos de tu expresión regular se corresponden en orden con barrio, manzana, casa y lote\n",
    "            row['barrio'] = match.group(1) if match.group(1) else None\n",
    "            row['manzana'] = match.group(2) if match.group(2) else None\n",
    "            row['casa'] = match.group(3) if match.group(3) else None\n",
    "            row['lote'] = match.group(4) if match.group(4) else None\n",
    "            break  # Si encuentras una coincidencia, no necesitas seguir buscando\n",
    "    return row\n",
    "\n",
    "# Aplicar la función a cada fila del DataFrame\n",
    "domicilios_df = domicilios_df.apply(rellenar_campos, axis=1, lista_regex=expresiones_regulares)\n",
    "\n",
    "# Verificar los resultados\n",
    "print(domicilios_df)\n"
   ]
  },
  {
   "cell_type": "code",
   "execution_count": null,
   "id": "c4addb9d",
   "metadata": {},
   "outputs": [],
   "source": [
    "## CC 7/10.\n",
    "# La funcion no logra rellenar ninguna fila. \n",
    "# Faltó el docstring de la función. \n",
    "# Abajo les dejo una opción que rellena algunos campos y pueden verlos con el print "
   ]
  },
  {
   "cell_type": "code",
   "execution_count": null,
   "id": "095690bc",
   "metadata": {},
   "outputs": [],
   "source": [
    "lista_regex = [\"^B°\\s(.*);C:\\s(\\d+);(.*);M:\\s(\\w+)\",\n",
    "                \"(B°)\\s(.*);(\\w+).(\\d+);(\\w).(\\d+)\",\n",
    "                \"(Bø) (.*):;(.*);(.*);();()\"]\n",
    "# Definir la función para aplicar a cada fila del DataFrame\n",
    "def rellenar_campos(row):\n",
    "    string_crudo = row['string_crudo']\n",
    "    for campo in lista_regex:\n",
    "        regex = re.compile(campo)\n",
    "        match = re.search(campo, row['string_crudo'])\n",
    "        if match:\n",
    "            # Suponiendo que los grupos de tu expresión regular se corresponden en orden con barrio, manzana, casa y lote\n",
    "            print(row.string_crudo)\n",
    "            row['barrio'] = match.group(1), \n",
    "            row['manzana'] = match.group(2),\n",
    "            row['casa'] = match.group(3),\n",
    "            row['lote'] = match.group(4), \n",
    "        else:\n",
    "            print(\"fila sin cambio\")\n",
    "    return row\n",
    "\n",
    "# Aplicar la función a cada fila del DataFrame\n",
    "domicilios_df = domicilios_df.apply(rellenar_campos, axis=1)\n",
    "\n",
    "# Verificar los resultados\n",
    "print(domicilios_df)"
   ]
  }
 ],
 "metadata": {
  "kernelspec": {
   "display_name": "Python 3 (ipykernel)",
   "language": "python",
   "name": "python3"
  },
  "language_info": {
   "codemirror_mode": {
    "name": "ipython",
    "version": 3
   },
   "file_extension": ".py",
   "mimetype": "text/x-python",
   "name": "python",
   "nbconvert_exporter": "python",
   "pygments_lexer": "ipython3",
   "version": "3.9.13"
  }
 },
 "nbformat": 4,
 "nbformat_minor": 5
}
